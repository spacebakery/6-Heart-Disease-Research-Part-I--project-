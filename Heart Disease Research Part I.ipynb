{
 "cells": [
  {
   "cell_type": "markdown",
   "metadata": {},
   "source": [
    "# Heart Disease Research Part I\n",
    "In this project, you’ll investigate some data from a sample patients who were evaluated for heart disease at the Cleveland Clinic Foundation. The data was downloaded from the [UCI Machine Learning Repository](https://www.codecademy.com/journeys/data-scientist-ml/paths/dsmlcj-22-data-science-foundations-ii/tracks/dsmlcj-22-statistics-fundamentals-for-data-science/modules/dsf-hypothesis-testing-for-data-science-ade4b838-f5e5-49a0-b33a-13d9b263c6fd/projects/heart-disease-research-i#:~:text=UCI%20Machine%20Learning%20Repository) and then cleaned for analysis. The principal investigators responsible for data collection were:\n",
    "\n",
    "1. Hungarian Institute of Cardiology. Budapest: Andras Janosi, M.D.\n",
    "2. University Hospital, Zurich, Switzerland: William Steinbrunn, M.D.\n",
    "3. University Hospital, Basel, Switzerland: Matthias Pfisterer, M.D.\n",
    "4. V.A. Medical Center, Long Beach and Cleveland Clinic Foundation: Robert Detrano, M.D., Ph.D.\n",
    "\n",
    "Note that a **solution.py** file is loaded for you in the workspace, which contains solution code for this project. We highly recommend that you complete the project on your own without checking the solution, but feel free to take a look if you get stuck or want to check your answers when you’re done!"
   ]
  },
  {
   "cell_type": "code",
   "execution_count": 1,
   "metadata": {},
   "outputs": [],
   "source": [
    "# import libraries\n",
    "import pandas as pd\n",
    "import numpy as np\n",
    "import scipy.stats as stats\n",
    "from scipy.stats import ttest_1samp\n",
    "from scipy.stats import binom_test\n",
    "from scipy.stats import binomtest\n",
    "\n",
    "# load data\n",
    "heart = pd.read_csv('heart_disease.csv')\n",
    "yes_hd = heart[heart.heart_disease == 'presence']\n",
    "no_hd = heart[heart.heart_disease == 'absence']"
   ]
  },
  {
   "cell_type": "code",
   "execution_count": 2,
   "metadata": {},
   "outputs": [
    {
     "name": "stdout",
     "output_type": "stream",
     "text": [
      "<class 'pandas.core.frame.DataFrame'>\n",
      "RangeIndex: 303 entries, 0 to 302\n",
      "Data columns (total 9 columns):\n",
      " #   Column         Non-Null Count  Dtype  \n",
      "---  ------         --------------  -----  \n",
      " 0   age            303 non-null    float64\n",
      " 1   sex            303 non-null    object \n",
      " 2   trestbps       303 non-null    float64\n",
      " 3   chol           303 non-null    float64\n",
      " 4   cp             303 non-null    object \n",
      " 5   exang          303 non-null    float64\n",
      " 6   fbs            303 non-null    float64\n",
      " 7   thalach        303 non-null    float64\n",
      " 8   heart_disease  303 non-null    object \n",
      "dtypes: float64(6), object(3)\n",
      "memory usage: 21.4+ KB\n",
      "None\n",
      "heart_disease\n",
      "absence     164\n",
      "presence    139\n",
      "Name: count, dtype: int64\n"
     ]
    }
   ],
   "source": [
    "# first inspection of dataset\n",
    "print(heart.info())\n",
    "print(heart.heart_disease.value_counts())"
   ]
  },
  {
   "cell_type": "markdown",
   "metadata": {},
   "source": [
    "**Tasks**\n",
    "\n",
    "## Cholesterol Analysis\n",
    "\n",
    "**1.** The full dataset has been loaded for you as `heart`, then split into two subsets:\n",
    "\n",
    "- `yes_hd`, which contains data for patients **with** heart disease\n",
    "- `no_hd`, which contains data for patients **without** heart disease\n",
    "\n",
    "For this project, we’ll investigate the following variables:\n",
    "\n",
    "- `chol`: serum cholestorol in mg/dl\n",
    "- `fbs`: An indicator for whether fasting blood sugar is greater than 120 mg/dl (`1` = true; `0` = false)\n",
    "\n",
    "To start, we’ll investigate cholesterol levels for patients with heart disease. Use the dataset yes_hd to save cholesterol levels for patients with heart disease as a variable named chol_hd.\n",
    "\n",
    "<details><summary><i>Hint</i></summary>\n",
    "\n",
    "Fill in the following code:\n",
    "\n",
    ">```py\n",
    ">chol_hd = yes_hd.___\n",
    ">```"
   ]
  },
  {
   "cell_type": "code",
   "execution_count": 3,
   "metadata": {},
   "outputs": [
    {
     "data": {
      "text/plain": [
       "1    286.0\n",
       "2    229.0\n",
       "6    268.0\n",
       "8    254.0\n",
       "9    203.0\n",
       "Name: chol, dtype: float64"
      ]
     },
     "execution_count": 3,
     "metadata": {},
     "output_type": "execute_result"
    }
   ],
   "source": [
    "#1 subset yes_hd cholesterol\n",
    "chol_yes_hd = yes_hd.chol\n",
    "chol_yes_hd.head()"
   ]
  },
  {
   "cell_type": "markdown",
   "metadata": {},
   "source": [
    "**2.** In general, total cholesterol over 240 mg/dl is considered “high” (and therefore unhealthy). Calculate the mean cholesterol level for patients who were diagnosed with heart disease and print it out. Is it higher than 240 mg/dl?\n",
    "\n",
    "<details><summary><i>Hint</i></summary>\n",
    "\n",
    "Use `np.mean` to calculate the mean of `chol_hd` (created in the previous step)."
   ]
  },
  {
   "cell_type": "code",
   "execution_count": 4,
   "metadata": {},
   "outputs": [
    {
     "name": "stdout",
     "output_type": "stream",
     "text": [
      "Chol yes_hd mean: 251.4748201438849\n"
     ]
    }
   ],
   "source": [
    "#2 patients with heart disease have cholesterol higher than 240?\n",
    "print('Chol yes_hd mean:', np.mean(chol_yes_hd))"
   ]
  },
  {
   "cell_type": "markdown",
   "metadata": {},
   "source": [
    "**3.** Do people with heart disease have high cholesterol levels (greater than or equal to 240 mg/dl) on average? Import the function from `scipy.stats` that you can use to test the following null and alternative hypotheses:\n",
    "\n",
    "- Null: People with heart disease have an average cholesterol level equal to 240 mg/dl\n",
    "- Alternative: People with heart disease have an average cholesterol level that is greater than 240 mg/dl\n",
    "\n",
    "Note: Unfortunately, the `scipy.stats` function we’ve been using does not (at the time of writing) have an `alternative` parameter to change the alternative hypothesis for this test. Therefore, you’ll have to run a two-sided test. However, since you calculated earlier that the average cholesterol level for heart disease patients is greater than 240 mg/dl, you can calculate the p-value for the one-sided test indicated above simply by dividing the two-sided p-value in half.\n",
    "\n",
    "<details><summary><i>Hint</i></summary>\n",
    "\n",
    "For this test, we need a one-sample t-test. To import the function:\n",
    "\n",
    ">```py\n",
    ">from scipy.stats import ttest_1samp\n",
    ">```"
   ]
  },
  {
   "cell_type": "code",
   "execution_count": 5,
   "metadata": {},
   "outputs": [],
   "source": [
    "#3 Do people with heart disease have high cholesterol levels (greater than or equal to 240 mg/dl) on average?\n",
    "# import ttest_1samp from  scipy.stats"
   ]
  },
  {
   "cell_type": "markdown",
   "metadata": {},
   "source": [
    "**4.** Run the hypothesis test indicated in task 3 and print out the p-value. Can you conclude that heart disease patients have an average cholesterol level significantly greater than 240 mg/dl? Use a significance threshold of 0.05.\n",
    "\n",
    "<details><summary><i>Hint</i></summary>\n",
    "\n",
    "`ttest_1samp` has two inputs: the sample of values (in this case, the cholesterol levels for patients with heart disease) and the null value (in this case, 240). It has two outputs, the t-statstic and a p-value.\n",
    "\n",
    "When you divide the p-value by two (in order to run the one-sided test), you should get a p-value of `0.0035`. This is less than 0.05, suggesting that heart disease patients have an average cholesterol level significantly higher than 240 mg/dl.\n",
    "\n"
   ]
  },
  {
   "cell_type": "code",
   "execution_count": 6,
   "metadata": {},
   "outputs": [
    {
     "name": "stdout",
     "output_type": "stream",
     "text": [
      "P-value patients with HD: 0.0035411033905155707\n",
      "According to p-val less than the threshold 5%, indicates that the null hypothesis is significant, which means that patients with heart disease are likely to have a cholesterol level above 240 mg/dl, but since the null hipothesis is True, it means we have a Type I Error\n"
     ]
    }
   ],
   "source": [
    "#4 run null hypothesis test and print p-value\n",
    "tstat, pval = ttest_1samp(chol_yes_hd, 240)\n",
    "print('P-value patients with HD:',pval/2)\n",
    "print('According to p-val less than the threshold 5%, indicates that the null hypothesis is significant, which means that patients with heart disease are likely to have a cholesterol level above 240 mg/dl, but since the null hipothesis is True, it means we have a Type I Error')"
   ]
  },
  {
   "cell_type": "markdown",
   "metadata": {},
   "source": [
    "**5.** Repeat steps 1-4 in order to run the same hypothesis test, but for patients in the sample who were not diagnosed with heart disease. Do patients without heart disease have average cholesterol levels significantly above 240 mg/dl?\n",
    "\n",
    "<details><summary><i>Hint</i></summary>\n",
    "\n",
    "The syntax should be almost identical, but use the `no_hd` dataset instead of `yes_hd`."
   ]
  },
  {
   "cell_type": "code",
   "execution_count": 7,
   "metadata": {},
   "outputs": [
    {
     "name": "stdout",
     "output_type": "stream",
     "text": [
      "Chol no_hd mean: 242.640243902439\n",
      "P-value patients without HD: 0.26397120232220506\n",
      "The outcome of p-value (is not significant) evidencing that its unlikely that patients without heart disease have a cholesterol level higher than 240 mg/dl\n"
     ]
    }
   ],
   "source": [
    "#5 run same test for null hypothesis with patient not diagnosed with heart disease\n",
    "# subset no_hd cholesterol\n",
    "chol_no_hd = no_hd.chol\n",
    "#2 patients without heart disease have cholesterol higher than 240?\n",
    "print('Chol no_hd mean:', np.mean(chol_no_hd))\n",
    "tstat, pval = ttest_1samp(chol_no_hd, 240)\n",
    "print('P-value patients without HD:',pval/2)\n",
    "print('The outcome of p-value (is not significant) evidencing that its unlikely that patients without heart disease have a cholesterol level higher than 240 mg/dl')\n"
   ]
  },
  {
   "cell_type": "markdown",
   "metadata": {},
   "source": [
    "## Fasting Blood Sugar Analysis\n",
    "\n",
    "**6.** Let’s now return to the full dataset (saved as `heart`). How many patients are there in this dataset? Save the number of patients as `num_patients` and print it out.\n",
    "\n",
    "<details><summary><i>Hint</i></summary>\n",
    "\n",
    "Use the `len()` function to calculate the number of rows in `heart`."
   ]
  },
  {
   "cell_type": "code",
   "execution_count": 8,
   "metadata": {},
   "outputs": [
    {
     "name": "stdout",
     "output_type": "stream",
     "text": [
      "Num patients in dataset (num of observ.): 303\n"
     ]
    }
   ],
   "source": [
    "#6 number of patients in the dataset\n",
    "num_patients = len(heart)\n",
    "print('Num patients in dataset (num of observ.):', num_patients)"
   ]
  },
  {
   "cell_type": "markdown",
   "metadata": {},
   "source": [
    "**7.** Remember that the `fbs` column of this dataset indicates whether or not a patient’s fasting blood sugar was greater than 120 mg/dl (`1` means that their fasting blood sugar was greater than 120 mg/dl; `0` means it was less than or equal to 120 mg/dl).\n",
    "\n",
    "Calculate the number of patients with fasting blood sugar greater than 120. Save this number as `num_highfbs_patients` and print it out.\n",
    "\n",
    "<details><summary><i>Hint</i></summary>\n",
    "\n",
    "Since patients have a value of `1` in the `fbs` column if their fasting blood sugar is greater than 120 mg/dl, and `0` otherwise, you can simply add up all the numbers in the `fbs` column of `heart` using `np.sum()`."
   ]
  },
  {
   "cell_type": "code",
   "execution_count": 9,
   "metadata": {},
   "outputs": [
    {
     "name": "stdout",
     "output_type": "stream",
     "text": [
      "Num of patients with high level of fbs: 45\n"
     ]
    }
   ],
   "source": [
    "#7 Proportion of Fasting Blood Sugar (fbs) above 120 mg/dl patients\n",
    "num_highfbs_patients = np.sum(heart.fbs == 1)\n",
    "print('Num of patients with high level of fbs:', num_highfbs_patients)"
   ]
  },
  {
   "cell_type": "markdown",
   "metadata": {},
   "source": [
    "**8.** Sometimes, part of an analysis will involve comparing a sample to known population values to see if the sample appears to be representative of the general population.\n",
    "\n",
    "By some estimates, about 8% of the U.S. population had diabetes (diagnosed or undiagnosed) in 1988 when this data was collected. While there are multiple tests that contribute to a diabetes diagnosis, fasting blood sugar levels greater than 120 mg/dl can be indicative of diabetes (or at least, pre-diabetes). If this sample were representative of the population, approximately how many people would you expect to have diabetes? Calculate and print out this number.\n",
    "\n",
    "Is this value similar to the number of patients with a resting blood sugar above 120 mg/dl — or different?\n",
    "\n",
    "<details><summary><i>Hint</i></summary>\n",
    "\n",
    "We want to calculate 8% of the sample size (which is 303). Therefore, we should multiply `0.08*303`. This comes out to approximately 24 patients, which is almost half the number with fbs > 120 in the sample (45)."
   ]
  },
  {
   "cell_type": "code",
   "execution_count": 10,
   "metadata": {},
   "outputs": [
    {
     "name": "stdout",
     "output_type": "stream",
     "text": [
      "8% of sample (303 patients): 24\n",
      "Proportion high fbs in sample: 14.85\n",
      "The dataset sample shows high fbs patients represents roughly 15% of the sample population, and almost doble od the US average of 8%.\n"
     ]
    }
   ],
   "source": [
    "#8 About 8% of US population has diabetes. Calculate 8% of the sample size\n",
    "print('8% of sample (303 patients):', int(num_patients * .08))\n",
    "\n",
    "print('Proportion high fbs in sample:', (num_highfbs_patients / num_patients).round(4) *100)\n",
    "print('The dataset sample shows high fbs patients represents roughly 15% of the sample population, and almost doble od the US average of 8%.')"
   ]
  },
  {
   "cell_type": "markdown",
   "metadata": {},
   "source": [
    "**9.** Does this sample come from a population in which the rate of fbs > 120 mg/dl is equal to 8%? Import the function from `scipy.stats` that you can use to test the following null and alternative hypotheses:\n",
    "\n",
    "- Null: This sample was drawn from a population where 8% of people have fasting blood sugar > 120 mg/dl\n",
    "- Alternative: This sample was drawn from a population where more than 8% of people have fasting blood sugar > 120 mg/dl\n",
    "\n",
    "<details><summary><i>Hint</i></summary>\n",
    "\n",
    "This hypothesis test requires a binomial test. We can import the function for a binomial test as follows:\n",
    "\n",
    ">```py\n",
    ">from scipy.stats import binom_test\n",
    ">```"
   ]
  },
  {
   "cell_type": "code",
   "execution_count": 11,
   "metadata": {},
   "outputs": [],
   "source": [
    "#9 Does this sample come from a population in which the rate of fbs > 120 mg/dl is equal to 8%?\n",
    "# import binom_test or bonomtest from scipy.stats library"
   ]
  },
  {
   "cell_type": "markdown",
   "metadata": {},
   "source": [
    "**10.** Run the hypothesis test indicated in task 9 and print out the p-value. Using a significance threshold of 0.05, can you conclude that this sample was drawn from a population where the rate of fasting blood sugar > 120 mg/dl is significantly greater than 8%?\n",
    "\n",
    "<details><summary><i>Hint</i></summary>\n",
    "\n",
    "The `binom_test()` function takes four parameters (in order):\n",
    "\n",
    "- The observed number of “successes” (in this case, the number of people in the sample who had fasting blood sugar greater than 120 mg/dl)\n",
    "- The number of “trials” (in this case, the number of patients)\n",
    "- The null probability of “success” (in this case, 0.08)\n",
    "- The `alternative` parameter, which indicates the alternative hypothesis for the test (eg.,`'two-sided'` `'greater'` or `'less'`)\n",
    "\n",
    "The output is the p-value.\n",
    "\n",
    "If you run the test correctly, you should get a p-value of `4.689471951449078e-05` which is equivalent to `0.0000469` (the `e-5` at the end indicates scientific notation). This is less than 0.05, indicating that this sample likely comes from a population where more than 8% of people have fbs > 120 mg/dl."
   ]
  },
  {
   "cell_type": "code",
   "execution_count": 12,
   "metadata": {},
   "outputs": [
    {
     "name": "stdout",
     "output_type": "stream",
     "text": [
      "P-value: 4.689471951448875e-05\n",
      "The outcome suggest that this sample likely comes from a population where ore than 8% of people have fbs > 120 mg/dl.\n"
     ]
    }
   ],
   "source": [
    "null_p = 0.08\n",
    "# pval = binom_test(45, num_patients, p=null_p, alternative='greater')\n",
    "pval = binomtest(num_highfbs_patients, num_patients, p=null_p, alternative='greater').pvalue\n",
    "print('P-value:', pval)\n",
    "print('The outcome suggest that this sample likely comes from a population where ore than 8% of people have fbs > 120 mg/dl.')"
   ]
  }
 ],
 "metadata": {
  "kernelspec": {
   "display_name": "myenv",
   "language": "python",
   "name": "python3"
  },
  "language_info": {
   "codemirror_mode": {
    "name": "ipython",
    "version": 3
   },
   "file_extension": ".py",
   "mimetype": "text/x-python",
   "name": "python",
   "nbconvert_exporter": "python",
   "pygments_lexer": "ipython3",
   "version": "3.11.7"
  }
 },
 "nbformat": 4,
 "nbformat_minor": 2
}
